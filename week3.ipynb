{
  "nbformat": 4,
  "nbformat_minor": 0,
  "metadata": {
    "colab": {
      "name": "week3.ipynb",
      "provenance": [],
      "authorship_tag": "ABX9TyP7TcFU/soyrYSxRcJjDCT8",
      "include_colab_link": true
    },
    "kernelspec": {
      "name": "python3",
      "display_name": "Python 3"
    },
    "language_info": {
      "name": "python"
    }
  },
  "cells": [
    {
      "cell_type": "markdown",
      "metadata": {
        "id": "view-in-github",
        "colab_type": "text"
      },
      "source": [
        "<a href=\"https://colab.research.google.com/github/christcoming7/christcoming7/blob/main/week3.ipynb\" target=\"_parent\"><img src=\"https://colab.research.google.com/assets/colab-badge.svg\" alt=\"Open In Colab\"/></a>"
      ]
    },
    {
      "cell_type": "markdown",
      "source": [
        "Q1.Calculate the Salary using Python Programming\n",
        "\n",
        "Read the question carefully and follow the input and output format. \n",
        "\n",
        "Karen got salary for this month and she spends 20% of her salary for food, 10% of her salary for entertainment and 10% of her salary for travel.If she takes care of other shifts she will get 4% of the salary per day. Given her salary and the number of shifts she handled.Calculate how much she can save in her pocket after spending all these?\n",
        "\n",
        "Input and Output Format : First line of input consists of an integer, salary. Next line correspond to the number of shifts. Output consist of an integer, \n",
        "which is saving.\n",
        " 1. Print \"Salary too large\" when salary is greater than 10000. \n",
        " 2. Print \"Shifts too small\" when the shift is less than 0. \n",
        " 3. Print \"Salary too small\" when the salary is less than 0.\n",
        "Include a function named calculateSal()  to calcuate salary and print saving.\n",
        "\n",
        "- Sample Input 1:\n",
        "  7000\n",
        "  5\n",
        "  Sample Output 1:\n",
        "  5600\n",
        "- Sample Input 2:\n",
        "  80000\n",
        "  Sample Output 2:\n",
        "  Salary too large\n",
        "- Sample Input 3:\n",
        "  6000\n",
        "  -1\n",
        "  Sample Output 3:\n",
        "  Shift too small"
      ],
      "metadata": {
        "id": "saY9-x4IaiUM"
      }
    },
    {
      "cell_type": "code",
      "execution_count": 1,
      "metadata": {
        "id": "49PRLLQFaXQ2"
      },
      "outputs": [],
      "source": [
        "def calculateSal():\n",
        "    salary=int(input(\"Enter the salary=\"))\n",
        "    if salary>10000:\n",
        "        print(\"Salary too large\")\n",
        "    elif salary<0 :\n",
        "        print(\"Salary too small\")\n",
        "    else:\n",
        "        shifts=int(input(\"enter the no of shifts=\"))\n",
        "        if shifts<0:\n",
        "            print(\"Shift too small\")\n",
        "        else:\n",
        "            savings=(salary*0.6)+(salary*0.04*shifts)\n",
        "            return savings"
      ]
    },
    {
      "cell_type": "code",
      "source": [
        "calculateSal()"
      ],
      "metadata": {
        "colab": {
          "base_uri": "https://localhost:8080/"
        },
        "id": "2IhegMLOaxUj",
        "outputId": "8c2742dc-f788-4aee-9b69-822e3e1e2081"
      },
      "execution_count": 2,
      "outputs": [
        {
          "name": "stdout",
          "output_type": "stream",
          "text": [
            "Enter the salary=9000\n",
            "enter the no of shifts=3\n"
          ]
        },
        {
          "output_type": "execute_result",
          "data": {
            "text/plain": [
              "6480.0"
            ]
          },
          "metadata": {},
          "execution_count": 2
        }
      ]
    },
    {
      "cell_type": "code",
      "source": [
        "10000*.60"
      ],
      "metadata": {
        "colab": {
          "base_uri": "https://localhost:8080/"
        },
        "id": "nJjqhpTma67b",
        "outputId": "f2c1325f-30b1-438d-960a-bb10b774fcf6"
      },
      "execution_count": 3,
      "outputs": [
        {
          "output_type": "execute_result",
          "data": {
            "text/plain": [
              "6000.0"
            ]
          },
          "metadata": {},
          "execution_count": 3
        }
      ]
    },
    {
      "cell_type": "markdown",
      "source": [
        "Q2.write python code to read n as integer,from STDIN. For all non-negative integers i<n ,\n",
        "\n",
        "print i**2.\n",
        "Example\n",
        "The list of non-negative integers that are less than n=3 is[0,1,2]. \n",
        "Print the square of each number on a separate line.\n",
        "0\n",
        "1\n",
        "4\n",
        "\n",
        "Input Format\n",
        "The first and only line contains the integer,n .\n",
        "Output Format\n",
        "Print n lines, one corresponding to each i .\n",
        "\n",
        "\n",
        "Sample Input \n",
        "5\n",
        "Sample Output \n",
        "0\n",
        "1\n",
        "4\n",
        "9\n",
        "16"
      ],
      "metadata": {
        "id": "U9OseNyZbWyI"
      }
    },
    {
      "cell_type": "code",
      "source": [
        "n=int(input(\"How many square number you want:\"))\n",
        "print(\"The square of each number:\")\n",
        "for i in range(n):\n",
        " print(i**2)\n",
        " print()"
      ],
      "metadata": {
        "colab": {
          "base_uri": "https://localhost:8080/"
        },
        "id": "4QAXzhYBceba",
        "outputId": "2e80576b-f2cd-415e-aa0b-ff98feaf57b5"
      },
      "execution_count": 4,
      "outputs": [
        {
          "output_type": "stream",
          "name": "stdout",
          "text": [
            "How many square number you want:3\n",
            "The square of each number:\n",
            "0\n",
            "\n",
            "1\n",
            "\n",
            "4\n",
            "\n"
          ]
        }
      ]
    },
    {
      "cell_type": "code",
      "source": [
        "n=int(input(\"enter the value=\"))\n",
        "for i in range(n):    \n",
        "    print(i*i)\n",
        "    "
      ],
      "metadata": {
        "colab": {
          "base_uri": "https://localhost:8080/"
        },
        "id": "ef924Ef_cuEs",
        "outputId": "3aba273b-2225-4514-cb70-d0d40b547fac"
      },
      "execution_count": 5,
      "outputs": [
        {
          "output_type": "stream",
          "name": "stdout",
          "text": [
            "enter the value=3\n",
            "0\n",
            "1\n",
            "4\n"
          ]
        }
      ]
    },
    {
      "cell_type": "markdown",
      "source": [
        "Q3.An extra day is added to the calendar almost every four years as February 29, and the day is called a leap day. It corrects the calendar for the fact that our planet takes approximately 365.25 days to orbit the sun. A leap year contains a leap day.\n",
        "\n",
        "In the Gregorian calendar, three conditions are used to identify leap years:\n",
        "The year can be evenly divided by 4, is a leap year, unless:\n",
        "The year can be evenly divided by 100, it is NOT a leap year, unless:\n",
        "The year is also evenly divisible by 400. Then it is a leap year.\n",
        "This means that in the Gregorian calendar, the years 2000 and 2400 are leap years, while 1800, 1900, 2100, 2200, 2300 and 2500 are NOT leap years. Source\n",
        "\n",
        "Task\n",
        "Given a year, determine whether it is a leap year. If it is a leap year, return the Boolean True, otherwise return False.\n",
        "\n",
        "Note that the code stub provided reads from STDIN and passes arguments to the is_leap function. It is only necessary to complete the is_leap function.\n",
        "\n",
        "Input Format\n",
        "Read , the year as integer to test.\n",
        "Output Format\n",
        "The function must return a Boolean value (True/False)\n",
        "\n",
        "Sample Input \n",
        "\n",
        "1990\n",
        "\n",
        "Sample Output \n",
        "\n",
        "False"
      ],
      "metadata": {
        "id": "tuY4aG3Cc0HH"
      }
    },
    {
      "cell_type": "code",
      "source": [
        "def is_leap(year):\n",
        "    return bool((year%4==0 and year%100!=0) or (year%400==0))\n",
        "year=int(input(\"Enter The Year\"))\n",
        "is_leap(year)    "
      ],
      "metadata": {
        "id": "XhE4R7N9dAHd"
      },
      "execution_count": null,
      "outputs": []
    },
    {
      "cell_type": "code",
      "source": [
        "def is_leap1():\n",
        "    year = int(input(\"enter the year\"))\n",
        "    if (year % 400 == 0) and (year % 100 == 0):\n",
        "        return True\n",
        "    elif (year % 4 ==0) and (year % 100 != 0):\n",
        "        return True\n",
        "    else:\n",
        "        return False"
      ],
      "metadata": {
        "id": "wxbaRYmOdE18"
      },
      "execution_count": null,
      "outputs": []
    },
    {
      "cell_type": "code",
      "source": [
        "is_leap1()"
      ],
      "metadata": {
        "id": "UXzqmDDVdG1O"
      },
      "execution_count": null,
      "outputs": []
    },
    {
      "cell_type": "code",
      "source": [
        "def is_leap2(year):\n",
        "    leap = False\n",
        "    if year % 4 == 0:\n",
        "        if year % 100 != 0:\n",
        "            leap = True\n",
        "        elif year % 400 == 0:\n",
        "            leap = True\n",
        "    return leap\n",
        "year = int(input())\n",
        "is_leap2(year)"
      ],
      "metadata": {
        "id": "Dg_el6-YdJhQ"
      },
      "execution_count": null,
      "outputs": []
    }
  ]
}